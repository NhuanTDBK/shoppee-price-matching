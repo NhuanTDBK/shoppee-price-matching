{
 "cells": [
  {
   "cell_type": "code",
   "execution_count": 2,
   "metadata": {},
   "outputs": [
    {
     "name": "stdout",
     "output_type": "stream",
     "text": [
      "GPU found\n"
     ]
    }
   ],
   "source": [
    "import os\n",
    "import tensorflow as tf\n",
    "\n",
    "tf.config.set_visible_devices([], 'GPU')\n",
    "\n",
    "if tf.test.gpu_device_name():\n",
    "    print('GPU found')\n",
    "else:\n",
    "    print(\"No GPU found\")\n",
    "\n",
    "from typing import Union\n",
    "\n",
    "import numpy as np\n",
    "import pandas as pd\n",
    "\n",
    "import transformers\n",
    "from sklearn.preprocessing import LabelEncoder\n",
    "\n",
    "from modelling.models import TextProductMatch\n",
    "from sklearn.model_selection import KFold\n",
    "from transformers import BertTokenizer, TFBertModel\n",
    "\n",
    "import os\n",
    "\n",
    "params = {\n",
    "    \"N_CLASSES\": 11014,\n",
    "    \"MAX_LEN\": 20,\n",
    "    \"MODEL_NAME\": 'bert-base-multilingual-uncased',\n",
    "    \"POOLING\": \"global_avg_1d\",\n",
    "    \"EPOCHS\": 5,\n",
    "    \"BATCH_SIZE\": 16,\n",
    "    \"METRIC\": \"adacos\"\n",
    "}\n",
    "PATH_NAME = 'saved/arcface/v1'\n",
    "os.makedirs(PATH_NAME,exist_ok=True)"
   ]
  },
  {
   "cell_type": "code",
   "execution_count": 76,
   "metadata": {},
   "outputs": [],
   "source": [
    "from modelling.metrics import *\n",
    "from modelling.pooling import *"
   ]
  },
  {
   "cell_type": "code",
   "execution_count": 77,
   "metadata": {},
   "outputs": [
    {
     "name": "stderr",
     "output_type": "stream",
     "text": [
      "Some layers from the model checkpoint at bert-base-multilingual-uncased were not used when initializing TFBertModel: ['mlm___cls', 'nsp___cls']\n",
      "- This IS expected if you are initializing TFBertModel from the checkpoint of a model trained on another task or with another architecture (e.g. initializing a BertForSequenceClassification model from a BertForPreTraining model).\n",
      "- This IS NOT expected if you are initializing TFBertModel from the checkpoint of a model that you expect to be exactly identical (initializing a BertForSequenceClassification model from a BertForSequenceClassification model).\n",
      "All the layers of TFBertModel were initialized from the model checkpoint at bert-base-multilingual-uncased.\n",
      "If your task is similar to the task the model of the checkpoint was trained on, you can already use TFBertModel for predictions without further training.\n"
     ]
    }
   ],
   "source": [
    "config = transformers.BertConfig.from_pretrained(params[\"MODEL_NAME\"])\n",
    "config.output_hidden_states = True\n",
    "word_model = transformers.TFAutoModel.from_pretrained(params[\"MODEL_NAME\"],config=config)\n",
    "tokenizer = transformers.AutoTokenizer.from_pretrained(params[\"MODEL_NAME\"])"
   ]
  },
  {
   "cell_type": "code",
   "execution_count": 78,
   "metadata": {},
   "outputs": [],
   "source": [
    "params = {\n",
    "    \"N_CLASSES\": 11014,\n",
    "    \"MAX_LEN\": 70,\n",
    "    \"MODEL_NAME\": 'bert-base-multilingual-uncased',\n",
    "    \"POOLING\": \"global_avg_1d\",\n",
    "    \"EPOCHS\": 5,\n",
    "    \"BATCH_SIZE\": 32,\n",
    "    \"METRIC\": \"adacos\",\n",
    "    \"LAST_HIDDEN_STATES\": 3 \n",
    "}"
   ]
  },
  {
   "cell_type": "code",
   "execution_count": 116,
   "metadata": {},
   "outputs": [
    {
     "name": "stdout",
     "output_type": "stream",
     "text": [
      "WARNING:tensorflow:The parameters `output_attentions`, `output_hidden_states` and `use_cache` cannot be updated when calling a model.They have to be set to True/False in the config object (i.e.: `config=XConfig.from_pretrained('name', output_attentions=True)`).\n",
      "WARNING:tensorflow:The parameter `return_dict` cannot be set in graph mode and will always be set to `True`.\n"
     ]
    }
   ],
   "source": [
    "ids = tf.keras.layers.Input((params[\"MAX_LEN\"],), dtype=tf.int32)\n",
    "att = tf.keras.layers.Input((params[\"MAX_LEN\"],), dtype=tf.int32)\n",
    "tok = tf.keras.layers.Input((params[\"MAX_LEN\"],), dtype=tf.int32)\n",
    "\n",
    "labels_onehot = tf.keras.layers.Input(shape=(params[\"N_CLASSES\"]), dtype=tf.int32)\n",
    "\n",
    "x = word_model(ids, attention_mask=att, token_type_ids=tok)[-1]\n",
    "x1 = tf.concat(tuple(x[-i-1] for i in range(params[\"LAST_HIDDEN_STATES\"])),axis=-1)"
   ]
  },
  {
   "cell_type": "code",
   "execution_count": 117,
   "metadata": {},
   "outputs": [],
   "source": [
    "x2_mean = tf.reduce_mean(x1,axis=1)\n",
    "x2_max = tf.reduce_max(x1,axis=1)\n",
    "x3 = tf.concat([x2_mean, x2_max],axis=1)"
   ]
  },
  {
   "cell_type": "code",
   "execution_count": 118,
   "metadata": {},
   "outputs": [
    {
     "data": {
      "text/plain": [
       "<tf.Tensor 'concat_27:0' shape=(None, 4608) dtype=float32>"
      ]
     },
     "execution_count": 118,
     "metadata": {},
     "output_type": "execute_result"
    }
   ],
   "source": [
    "x3"
   ]
  },
  {
   "cell_type": "code",
   "execution_count": 15,
   "metadata": {},
   "outputs": [],
   "source": [
    "labels = [1,2,3,1,3,2,3]"
   ]
  },
  {
   "cell_type": "code",
   "execution_count": 16,
   "metadata": {},
   "outputs": [
    {
     "data": {
      "text/plain": [
       "<tf.Tensor: shape=(7, 7), dtype=bool, numpy=\n",
       "array([[ True, False, False, False, False, False, False],\n",
       "       [False,  True, False, False, False, False, False],\n",
       "       [False, False,  True, False, False, False, False],\n",
       "       [False, False, False,  True, False, False, False],\n",
       "       [False, False, False, False,  True, False, False],\n",
       "       [False, False, False, False, False,  True, False],\n",
       "       [False, False, False, False, False, False,  True]])>"
      ]
     },
     "execution_count": 16,
     "metadata": {},
     "output_type": "execute_result"
    }
   ],
   "source": [
    "tf.eye(len(labels),dtype=tf.bool)"
   ]
  },
  {
   "cell_type": "code",
   "execution_count": 17,
   "metadata": {},
   "outputs": [
    {
     "data": {
      "text/plain": [
       "<tf.Tensor: shape=(7, 7), dtype=bool, numpy=\n",
       "array([[False, False, False,  True, False, False, False],\n",
       "       [False, False, False, False, False,  True, False],\n",
       "       [False, False, False, False,  True, False,  True],\n",
       "       [ True, False, False, False, False, False, False],\n",
       "       [False, False,  True, False, False, False,  True],\n",
       "       [False,  True, False, False, False, False, False],\n",
       "       [False, False,  True, False,  True, False, False]])>"
      ]
     },
     "execution_count": 17,
     "metadata": {},
     "output_type": "execute_result"
    }
   ],
   "source": [
    "tf.logical_and(tf.logical_not(tf.eye(len(labels),dtype=tf.bool)),tf.equal(tf.expand_dims(labels, 0), tf.expand_dims(labels, 1)))"
   ]
  },
  {
   "cell_type": "code",
   "execution_count": null,
   "metadata": {},
   "outputs": [],
   "source": []
  },
  {
   "cell_type": "code",
   "execution_count": null,
   "metadata": {},
   "outputs": [],
   "source": []
  }
 ],
 "metadata": {
  "kernelspec": {
   "display_name": "Python 3",
   "language": "python",
   "name": "python3"
  },
  "language_info": {
   "codemirror_mode": {
    "name": "ipython",
    "version": 3
   },
   "file_extension": ".py",
   "mimetype": "text/x-python",
   "name": "python",
   "nbconvert_exporter": "python",
   "pygments_lexer": "ipython3",
   "version": "3.8.5"
  },
  "toc": {
   "base_numbering": 1,
   "nav_menu": {},
   "number_sections": true,
   "sideBar": true,
   "skip_h1_title": false,
   "title_cell": "Table of Contents",
   "title_sidebar": "Contents",
   "toc_cell": false,
   "toc_position": {},
   "toc_section_display": true,
   "toc_window_display": false
  }
 },
 "nbformat": 4,
 "nbformat_minor": 4
}
