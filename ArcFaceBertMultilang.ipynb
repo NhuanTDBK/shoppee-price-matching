{
 "cells": [
  {
   "cell_type": "code",
   "execution_count": 2,
   "metadata": {},
   "outputs": [
    {
     "name": "stdout",
     "output_type": "stream",
     "text": [
      "Requirement already satisfied: kaggle in /usr/local/lib/python3.8/site-packages (1.5.12)\n",
      "Requirement already satisfied: urllib3 in /usr/local/lib/python3.8/site-packages (from kaggle) (1.25.10)\n",
      "Requirement already satisfied: tqdm in /usr/local/lib/python3.8/site-packages (from kaggle) (4.48.2)\n",
      "Requirement already satisfied: requests in /usr/local/lib/python3.8/site-packages (from kaggle) (2.24.0)\n",
      "Requirement already satisfied: python-slugify in /usr/local/lib/python3.8/site-packages (from kaggle) (4.0.1)\n",
      "Requirement already satisfied: six>=1.10 in /usr/local/lib/python3.8/site-packages (from kaggle) (1.15.0)\n",
      "Requirement already satisfied: python-dateutil in /usr/local/lib/python3.8/site-packages (from kaggle) (2.8.1)\n",
      "Requirement already satisfied: certifi in /usr/local/lib/python3.8/site-packages (from kaggle) (2020.6.20)\n",
      "Requirement already satisfied: chardet<4,>=3.0.2 in /usr/local/lib/python3.8/site-packages (from requests->kaggle) (3.0.4)\n",
      "Requirement already satisfied: idna<3,>=2.5 in /usr/local/lib/python3.8/site-packages (from requests->kaggle) (2.6)\n",
      "Requirement already satisfied: text-unidecode>=1.3 in /usr/local/lib/python3.8/site-packages (from python-slugify->kaggle) (1.3)\n"
     ]
    }
   ],
   "source": [
    "!pip3 install kaggle"
   ]
  },
  {
   "cell_type": "code",
   "execution_count": 17,
   "metadata": {},
   "outputs": [
    {
     "name": "stdout",
     "output_type": "stream",
     "text": [
      "touch: /root/.kaggle/kaggle.json: No such file or directory\n",
      "zsh:1: no such file or directory: /root/.kaggle/kaggle.json\n",
      "chmod: /root/.kaggle/kaggle.json: No such file or directory\n",
      "Traceback (most recent call last):\n",
      "  File \"/usr/local/bin/kaggle\", line 5, in <module>\n",
      "    from kaggle.cli import main\n",
      "  File \"/usr/local/lib/python3.8/site-packages/kaggle/__init__.py\", line 23, in <module>\n",
      "    api.authenticate()\n",
      "  File \"/usr/local/lib/python3.8/site-packages/kaggle/api/kaggle_api_extended.py\", line 164, in authenticate\n",
      "    raise IOError('Could not find {}. Make sure it\\'s located in'\n",
      "OSError: Could not find kaggle.json. Make sure it's located in /Users/stevetran/.kaggle. Or use the environment method.\n",
      "unzip:  cannot find or open train.csv.zip, train.csv.zip.zip or train.csv.zip.ZIP.\n"
     ]
    }
   ],
   "source": [
    "!touch /root/.kaggle/kaggle.json\n",
    "!echo '{\"username\":\"nhuantd\",\"key\":\"bd50957194c60fa1c8e8afb3232bead4\"}' > /root/.kaggle/kaggle.json\n",
    "!chmod 600 /root/.kaggle/kaggle.json\n",
    "!cd ./input/shopee-product-matching && kaggle competitions download shopee-product-matching\n",
    "!unzip train.csv.zip"
   ]
  },
  {
   "cell_type": "code",
   "execution_count": null,
   "metadata": {},
   "outputs": [],
   "source": [
    "from typing import Union\n",
    "\n",
    "import numpy as np\n",
    "import pandas as pd\n",
    "import tensorflow as tf\n",
    "import transformers\n",
    "from sklearn.preprocessing import LabelEncoder\n",
    "\n",
    "from modelling.models import TextProductMatch\n",
    "from sklearn.model_selection import KFold\n",
    "\n",
    "\n",
    "params = {\n",
    "    \"N_CLASSES\": 11011,\n",
    "    \"MAX_LEN\": 70,\n",
    "    \"MODEL_NAME\": 'bert-base-multilingual-uncased',\n",
    "    \"POOLING\": \"global_avg_1d\",\n",
    "    \"EPOCHS\": 5,\n",
    "    \"BATCH_SIZE\": 32,\n",
    "    \"METRIC\": \"circle_cl\"\n",
    "}\n",
    "\n",
    "word_model = transformers.TFAutoModel.from_pretrained(params[\"MODEL_NAME\"])\n",
    "tokenizer = transformers.AutoTokenizer.from_pretrained(params[\"MODEL_NAME\"])\n",
    "\n",
    "\n",
    "def encoder(titles: Union[str]):\n",
    "    ct = len(titles)\n",
    "\n",
    "    input_ids = np.ones((ct, params[\"MAX_LEN\"]), dtype='int32')\n",
    "    att_masks = np.zeros((ct, params[\"MAX_LEN\"]), dtype='int32')\n",
    "    token_type_ids = np.zeros((ct, params[\"MAX_LEN\"]), dtype='int32')\n",
    "\n",
    "    for i in range(len(titles)):\n",
    "        enc = tokenizer.encode_plus(titles[i],\n",
    "                                    padding=\"max_length\",\n",
    "                                    max_length=params[\"MAX_LEN\"],\n",
    "                                    truncation=True,\n",
    "                                    add_special_tokens=True,\n",
    "                                    return_tensors='tf',\n",
    "                                    return_attention_mask=True,\n",
    "                                    return_token_type_ids=True)\n",
    "        input_ids[i] = enc[\"input_ids\"]\n",
    "        att_masks[i] = enc[\"attention_mask\"]\n",
    "        token_type_ids[i] = enc[\"token_type_ids\"]\n",
    "\n",
    "    return input_ids, att_masks, token_type_ids\n",
    "\n",
    "\n",
    "def main():\n",
    "    ids = tf.keras.layers.Input((params[\"MAX_LEN\"],), dtype=tf.int32)\n",
    "    att = tf.keras.layers.Input((params[\"MAX_LEN\"],), dtype=tf.int32)\n",
    "    tok = tf.keras.layers.Input((params[\"MAX_LEN\"],), dtype=tf.int32)\n",
    "\n",
    "    labels_onehot = tf.keras.layers.Input(shape=(params[\"N_CLASSES\"]), dtype=tf.int32)\n",
    "\n",
    "    x = word_model(ids, attention_mask=att, token_type_ids=tok)[0]\n",
    "    x = TextProductMatch(params[\"N_CLASSES\"],\n",
    "                         params[\"POOLING\"],\n",
    "                         metric=params[\"METRIC\"],\n",
    "                         use_fc=True)([x, labels_onehot])\n",
    "\n",
    "    model = tf.keras.Model(inputs=[[ids, att, tok], labels_onehot], outputs=[x])\n",
    "    print(model.summary())\n",
    "\n",
    "    print(\"Loading data\")\n",
    "    dat = pd.read_csv(\"train.csv\")\n",
    "    X = encoder(dat[\"title\"].tolist())\n",
    "    y = np.array(LabelEncoder().fit_transform(dat[\"label_group\"].tolist()))\n",
    "    y = tf.keras.utils.to_categorical(y, num_classes=params[\"N_CLASSES\"])\n",
    "    \n",
    "    \n",
    "    cv = KFold(5, random_state=4111, shuffle=True)\n",
    "    for (train_idx, test_idx) in cv.split(X,y):\n",
    "        X_train, y_train, X_test, y_test = X[train_idx], y[train_idx],X[test_idx], y[test_idx]\n",
    "        \n",
    "        model.compile(\n",
    "            optimizer=tf.keras.optimizers.Adam(),\n",
    "            loss=tf.keras.losses.CategoricalCrossentropy(),\n",
    "            metrics=tf.keras.metrics.Accuracy(),\n",
    "        )\n",
    "\n",
    "        callbacks = [\n",
    "            tf.keras.callbacks.TensorBoard(write_graph=False)\n",
    "        ]\n",
    "\n",
    "        model.fit([X,y], y,\n",
    "                  epochs=params[\"EPOCHS\"],\n",
    "                  batch_size=params[\"BATCH_SIZE\"],\n",
    "                  validation_data=(X_test, y_test)\n",
    "                  callbacks=callbacks)"
   ]
  }
 ],
 "metadata": {
  "kernelspec": {
   "display_name": "Python 3",
   "language": "python",
   "name": "python3"
  },
  "language_info": {
   "codemirror_mode": {
    "name": "ipython",
    "version": 3
   },
   "file_extension": ".py",
   "mimetype": "text/x-python",
   "name": "python",
   "nbconvert_exporter": "python",
   "pygments_lexer": "ipython3",
   "version": "3.8.5"
  },
  "toc": {
   "base_numbering": 1,
   "nav_menu": {},
   "number_sections": true,
   "sideBar": true,
   "skip_h1_title": false,
   "title_cell": "Table of Contents",
   "title_sidebar": "Contents",
   "toc_cell": false,
   "toc_position": {},
   "toc_section_display": true,
   "toc_window_display": false
  }
 },
 "nbformat": 4,
 "nbformat_minor": 4
}
